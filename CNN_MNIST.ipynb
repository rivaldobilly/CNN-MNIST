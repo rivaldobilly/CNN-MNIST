{
  "nbformat": 4,
  "nbformat_minor": 0,
  "metadata": {
    "colab": {
      "provenance": [],
      "authorship_tag": "ABX9TyP/cexgCBQR+CBIAWQr1U66",
      "include_colab_link": true
    },
    "kernelspec": {
      "name": "python3",
      "display_name": "Python 3"
    },
    "language_info": {
      "name": "python"
    }
  },
  "cells": [
    {
      "cell_type": "markdown",
      "metadata": {
        "id": "view-in-github",
        "colab_type": "text"
      },
      "source": [
        "<a href=\"https://colab.research.google.com/github/rivaldobilly/CNN-MNIST/blob/main/CNN_MNIST.ipynb\" target=\"_parent\"><img src=\"https://colab.research.google.com/assets/colab-badge.svg\" alt=\"Open In Colab\"/></a>"
      ]
    },
    {
      "cell_type": "code",
      "metadata": {
        "id": "ff60d33c"
      },
      "source": [
        "import torch\n",
        "import torch.nn as nn\n",
        "import torch.nn.functional as F\n",
        "import torch.utils.data as data\n",
        "from torch.utils.data import DataLoader\n",
        "from torchvision import datasets, transforms\n",
        "from torchvision.utils import make_grid\n",
        "\n",
        "import numpy as np\n",
        "import pandas as pd\n",
        "from sklearn.metrics import confusion_matrix\n",
        "import matplotlib.pyplot as plt\n",
        "%matplotlib inline"
      ],
      "execution_count": 1,
      "outputs": []
    },
    {
      "cell_type": "code",
      "source": [
        "# Convert MNIST image files into a 4-D Tensor (# of images, Height, Width, Color Channel)\n",
        "transform = transforms.ToTensor()"
      ],
      "metadata": {
        "id": "_Gv6eJlihfLf"
      },
      "execution_count": 2,
      "outputs": []
    },
    {
      "cell_type": "code",
      "source": [
        "# Train Data\n",
        "train_data = datasets.MNIST(root='cnn_data', train=True, download=True, transform=transform)"
      ],
      "metadata": {
        "colab": {
          "base_uri": "https://localhost:8080/"
        },
        "id": "T9V6iEXEil8-",
        "outputId": "a088c427-3135-4580-ff94-25c84cdb3155"
      },
      "execution_count": 3,
      "outputs": [
        {
          "output_type": "stream",
          "name": "stderr",
          "text": [
            "100%|██████████| 9.91M/9.91M [00:00<00:00, 20.0MB/s]\n",
            "100%|██████████| 28.9k/28.9k [00:00<00:00, 620kB/s]\n",
            "100%|██████████| 1.65M/1.65M [00:00<00:00, 5.65MB/s]\n",
            "100%|██████████| 4.54k/4.54k [00:00<00:00, 5.52MB/s]\n"
          ]
        }
      ]
    },
    {
      "cell_type": "code",
      "source": [
        "# Test Data\n",
        "test_data = datasets.MNIST(root='cnn_data', train=False, download=True, transform=transform)"
      ],
      "metadata": {
        "id": "EGG9ep5uiuip"
      },
      "execution_count": 4,
      "outputs": []
    },
    {
      "cell_type": "code",
      "source": [
        "train_data"
      ],
      "metadata": {
        "colab": {
          "base_uri": "https://localhost:8080/"
        },
        "id": "bdGIE-nLi2JA",
        "outputId": "feed7dcd-749c-4d77-a814-5e03c3989fdd"
      },
      "execution_count": 5,
      "outputs": [
        {
          "output_type": "execute_result",
          "data": {
            "text/plain": [
              "Dataset MNIST\n",
              "    Number of datapoints: 60000\n",
              "    Root location: cnn_data\n",
              "    Split: Train\n",
              "    StandardTransform\n",
              "Transform: ToTensor()"
            ]
          },
          "metadata": {},
          "execution_count": 5
        }
      ]
    },
    {
      "cell_type": "code",
      "source": [
        "test_data"
      ],
      "metadata": {
        "id": "I27LhnyLji-s",
        "outputId": "2fead285-7ac6-4110-95d9-82e6d84ac966",
        "colab": {
          "base_uri": "https://localhost:8080/"
        }
      },
      "execution_count": 6,
      "outputs": [
        {
          "output_type": "execute_result",
          "data": {
            "text/plain": [
              "Dataset MNIST\n",
              "    Number of datapoints: 10000\n",
              "    Root location: cnn_data\n",
              "    Split: Test\n",
              "    StandardTransform\n",
              "Transform: ToTensor()"
            ]
          },
          "metadata": {},
          "execution_count": 6
        }
      ]
    },
    {
      "cell_type": "code",
      "source": [
        "train_loader = DataLoader(train_data, batch_size=10, shuffle=True)\n",
        "test_loader = DataLoader(test_data, batch_size=10, shuffle=False)"
      ],
      "metadata": {
        "id": "JN_QBCEwjkvi"
      },
      "execution_count": 7,
      "outputs": []
    },
    {
      "cell_type": "code",
      "source": [
        "# Model Class\n",
        "class ConvolutionalNeuralNetwork(nn.Module):\n",
        "    def __init__(self):\n",
        "        super().__init__()\n",
        "        self.conv1 = nn.Conv2d(in_channels=1, out_channels=6, kernel_size=3, stride=1)\n",
        "        self.conv2 = nn.Conv2d(in_channels=6, out_channels=16, kernel_size=3, stride=1)\n",
        "\n",
        "        # Fully Connected Layer\n",
        "        self.fc1 = nn.Linear(in_features=5*5*16, out_features=120)\n",
        "        self.fc2 = nn.Linear(in_features=120, out_features=84)\n",
        "        self.fc3 = nn.Linear(in_features=84, out_features=10)\n",
        "\n",
        "    def forward(self, X):\n",
        "        # First Pass\n",
        "        X = F.relu(self.conv1(X))\n",
        "        X = F.max_pool2d(input=X, kernel_size=2, stride=2)\n",
        "\n",
        "        # Second Pass\n",
        "        X = F.relu(self.conv2(X))\n",
        "        X = F.max_pool2d(input=X, kernel_size=2, stride=2)\n",
        "\n",
        "        # Re-View to Flatten it out\n",
        "        X = X.view(-1, 5*5*16)\n",
        "\n",
        "        # Fully Connected Layers\n",
        "        X = F.relu(self.fc1(X))\n",
        "        X = F.relu(self.fc2(X))\n",
        "        X = self.fc3(X)\n",
        "\n",
        "        return F.log_softmax(X, dim=1)"
      ],
      "metadata": {
        "id": "zgqSevvUzQQa"
      },
      "execution_count": 13,
      "outputs": []
    },
    {
      "cell_type": "code",
      "source": [
        "# Create an Instance of CNN model\n",
        "torch.manual_seed(16)\n",
        "model = ConvolutionalNeuralNetwork()\n",
        "model"
      ],
      "metadata": {
        "colab": {
          "base_uri": "https://localhost:8080/"
        },
        "id": "uyclSw612Caf",
        "outputId": "ce890da5-5118-4fe2-9a7e-daeef2bbaee4"
      },
      "execution_count": 14,
      "outputs": [
        {
          "output_type": "execute_result",
          "data": {
            "text/plain": [
              "ConvolutionalNeuralNetwork(\n",
              "  (conv1): Conv2d(1, 6, kernel_size=(3, 3), stride=(1, 1))\n",
              "  (conv2): Conv2d(6, 16, kernel_size=(3, 3), stride=(1, 1))\n",
              "  (fc1): Linear(in_features=400, out_features=120, bias=True)\n",
              "  (fc2): Linear(in_features=120, out_features=84, bias=True)\n",
              "  (fc3): Linear(in_features=84, out_features=10, bias=True)\n",
              ")"
            ]
          },
          "metadata": {},
          "execution_count": 14
        }
      ]
    },
    {
      "cell_type": "code",
      "source": [
        "# Loss Function Optimizer\n",
        "criterion = nn.CrossEntropyLoss()\n",
        "optimizer = torch.optim.Adam(model.parameters(), lr=0.001) # The smaller the learning rate, the time taken is longer to train"
      ],
      "metadata": {
        "id": "ByVTw6la2P71"
      },
      "execution_count": 15,
      "outputs": []
    },
    {
      "cell_type": "code",
      "source": [
        "import time\n",
        "start_time = time.time()\n",
        "\n",
        "# Create Variables To Track Things\n",
        "epochs = 5\n",
        "train_losses = []\n",
        "test_losses = []\n",
        "train_correct = []\n",
        "test_correct = []\n",
        "\n",
        "# For Loops of Epochs\n",
        "for i in range(epochs):\n",
        "    trn_corr = 0\n",
        "    tst_corr = 0\n",
        "\n",
        "    # Train\n",
        "    for b, (X_train, y_train) in enumerate(train_loader):\n",
        "        b += 1 # start batches at 1\n",
        "        y_pred = model(X_train) # get predicted values from the training set. Not flattened 2D\n",
        "        loss = criterion(y_pred, y_train) # how off are we? Compare the predictions to correct answers in y_train\n",
        "\n",
        "        predicted = torch.max(y_pred.data, 1)[1] # add up the loader of correct predictions. Indexed off the first\n",
        "        batch_corr = (predicted == y_train).sum() # sum the correct. True = 1, False = 0\n",
        "        trn_corr += batch_corr # keep track as we go in training\n",
        "\n",
        "        # Update our parameters\n",
        "        optimizer.zero_grad()\n",
        "        loss.backward()\n",
        "        optimizer.step()\n",
        "\n",
        "        # Print out some results\n",
        "        if b % 900 == 0:\n",
        "            print(f'Epoch: {i} Batch: {b} Loss: {loss.item()}')\n",
        "\n",
        "    train_losses.append(loss)\n",
        "    train_correct.append(trn_corr)\n",
        "\n",
        "    # Test\n",
        "    with torch.no_grad(): # No gradient so we don't update our weights and biases with test\n",
        "        for b, (X_test, y_test) in enumerate(test_loader):\n",
        "            y_val = model(X_test)\n",
        "            predicted = torch.max(y_val.data, 1)[1] # Adding up correct predictions\n",
        "            tst_corr += (predicted == y_test).sum() # True = 1, False = 0, sum away\n",
        "\n",
        "    loss = criterion(y_val, y_test)\n",
        "    test_losses.append(loss)\n",
        "    test_correct.append(tst_corr)\n",
        "\n",
        "\n",
        "current_time = time.time()\n",
        "elapsed_time = current_time - start_time\n",
        "print(f'Training Took: {round(elapsed_time/60, 2)} minutes.')"
      ],
      "metadata": {
        "id": "sDPW71Pq2lIM",
        "colab": {
          "base_uri": "https://localhost:8080/"
        },
        "outputId": "f0f7fc9e-a8ac-43bd-8dea-3d9d9d701705"
      },
      "execution_count": 18,
      "outputs": [
        {
          "output_type": "stream",
          "name": "stdout",
          "text": [
            "Epoch: 0 Batch: 900 Loss: 0.0003542662307154387\n",
            "Epoch: 0 Batch: 1800 Loss: 0.007566975895315409\n",
            "Epoch: 0 Batch: 2700 Loss: 4.5247194066178054e-05\n",
            "Epoch: 0 Batch: 3600 Loss: 8.154251554515213e-05\n",
            "Epoch: 0 Batch: 4500 Loss: 2.8869751986349e-05\n",
            "Epoch: 0 Batch: 5400 Loss: 0.00019021297339349985\n",
            "Epoch: 1 Batch: 900 Loss: 3.290969107183628e-05\n",
            "Epoch: 1 Batch: 1800 Loss: 0.00026153665385209024\n",
            "Epoch: 1 Batch: 2700 Loss: 0.002869979478418827\n",
            "Epoch: 1 Batch: 3600 Loss: 0.0006375863449648023\n",
            "Epoch: 1 Batch: 4500 Loss: 0.0012501018354669213\n",
            "Epoch: 1 Batch: 5400 Loss: 0.0035573490895330906\n",
            "Epoch: 2 Batch: 900 Loss: 0.010815695859491825\n",
            "Epoch: 2 Batch: 1800 Loss: 1.2516937886175583e-06\n",
            "Epoch: 2 Batch: 2700 Loss: 0.00018408775213174522\n",
            "Epoch: 2 Batch: 3600 Loss: 6.641201616730541e-05\n",
            "Epoch: 2 Batch: 4500 Loss: 1.5174798136285972e-05\n",
            "Epoch: 2 Batch: 5400 Loss: 0.0013379412703216076\n",
            "Epoch: 3 Batch: 900 Loss: 0.00022899960458744317\n",
            "Epoch: 3 Batch: 1800 Loss: 0.00013999987277202308\n",
            "Epoch: 3 Batch: 2700 Loss: 0.0008970198105089366\n",
            "Epoch: 3 Batch: 3600 Loss: 0.004589511081576347\n",
            "Epoch: 3 Batch: 4500 Loss: 1.6212379705393687e-06\n",
            "Epoch: 3 Batch: 5400 Loss: 3.612615546444431e-05\n",
            "Epoch: 4 Batch: 900 Loss: 0.0005713376449421048\n",
            "Epoch: 4 Batch: 1800 Loss: 4.649157290259609e-07\n",
            "Epoch: 4 Batch: 2700 Loss: 0.10210379213094711\n",
            "Epoch: 4 Batch: 3600 Loss: 0.0017533644568175077\n",
            "Epoch: 4 Batch: 4500 Loss: 3.81469476451457e-07\n",
            "Epoch: 4 Batch: 5400 Loss: 0.05447854846715927\n",
            "Training Took: 4.06 minutes.\n"
          ]
        }
      ]
    },
    {
      "cell_type": "code",
      "source": [
        "# Graph the Loss at Epoch\n",
        "train_losses = [tl.item() for tl in train_losses]\n",
        "test_losses = [tl.item() for tl in test_losses]\n",
        "plt.plot(train_losses, label='Training Loss')\n",
        "plt.plot(test_losses, label='Validation Loss')\n",
        "plt.title('Loss at Epoch')\n",
        "plt.legend()"
      ],
      "metadata": {
        "colab": {
          "base_uri": "https://localhost:8080/",
          "height": 470
        },
        "id": "vMGLjjz8N5y7",
        "outputId": "2884d157-a82a-4651-b6c8-9d62f263ddd9"
      },
      "execution_count": 29,
      "outputs": [
        {
          "output_type": "execute_result",
          "data": {
            "text/plain": [
              "<matplotlib.legend.Legend at 0x7e077e96b710>"
            ]
          },
          "metadata": {},
          "execution_count": 29
        },
        {
          "output_type": "display_data",
          "data": {
            "text/plain": [
              "<Figure size 640x480 with 1 Axes>"
            ],
            "image/png": "[encoded data removed]"
          },
          "metadata": {}
        }
      ]
    },
    {
      "cell_type": "code",
      "source": [
        "# Graph accuracy at the end of end of each epoch\n",
        "plt.plot([t/600 for t in train_correct], label='Traning Accuracy')\n",
        "plt.plot([t/100 for t in test_correct], label='Validation Accuracy')\n",
        "plt.title('Accuracy at the end of each Epoch')\n",
        "plt.legend()"
      ],
      "metadata": {
        "colab": {
          "base_uri": "https://localhost:8080/",
          "height": 470
        },
        "id": "s4fjgzTpSul4",
        "outputId": "f5184f02-dc7f-4d84-9525-62a1ececcf15"
      },
      "execution_count": 30,
      "outputs": [
        {
          "output_type": "execute_result",
          "data": {
            "text/plain": [
              "<matplotlib.legend.Legend at 0x7e077bc5b7d0>"
            ]
          },
          "metadata": {},
          "execution_count": 30
        },
        {
          "output_type": "display_data",
          "data": {
            "text/plain": [
              "<Figure size 640x480 with 1 Axes>"
            ],
            "image/png": "[encoded data removed]"
          },
          "metadata": {}
        }
      ]
    },
    {
      "cell_type": "code",
      "source": [
        "test_load_everything = DataLoader(test_data, batch_size=10000, shuffle=False)"
      ],
      "metadata": {
        "id": "ymurTUF3Tl5x"
      },
      "execution_count": 31,
      "outputs": []
    },
    {
      "cell_type": "code",
      "source": [
        "with torch.no_grad():\n",
        "    correct = 0\n",
        "    for X_test, y_test in test_load_everything:\n",
        "        y_val = model(X_test)\n",
        "        predicted = torch.max(y_val, 1)[1]\n",
        "        correct += (predicted == y_test).sum()"
      ],
      "metadata": {
        "id": "QXtSk3E0UTFR"
      },
      "execution_count": 32,
      "outputs": []
    },
    {
      "cell_type": "code",
      "source": [
        "# Did for correct\n",
        "print(f'Test Data Accuracy: {correct.item()/len(test_data)*100}%')"
      ],
      "metadata": {
        "colab": {
          "base_uri": "https://localhost:8080/"
        },
        "id": "lxnMl8PQUlZc",
        "outputId": "bce1dc64-7d10-440d-f5e7-2130e3619ef5"
      },
      "execution_count": 33,
      "outputs": [
        {
          "output_type": "stream",
          "name": "stdout",
          "text": [
            "Test Data Accuracy: 98.86%\n"
          ]
        }
      ]
    },
    {
      "cell_type": "code",
      "source": [
        "# Grab an image\n",
        "# Grab just the data (X)\n",
        "X_data = test_data[2025][0]"
      ],
      "metadata": {
        "id": "1jngDsGHQT7V"
      },
      "execution_count": 34,
      "outputs": []
    },
    {
      "cell_type": "code",
      "source": [
        "# Reshape image into 28x28\n",
        "X_data_reshape = test_data[2025][0].reshape(28, 28)"
      ],
      "metadata": {
        "id": "ZrPLLN3tQhV0"
      },
      "execution_count": 37,
      "outputs": []
    },
    {
      "cell_type": "code",
      "source": [
        "# Show the image\n",
        "plt.imshow(X_data_reshape)"
      ],
      "metadata": {
        "colab": {
          "base_uri": "https://localhost:8080/",
          "height": 448
        },
        "id": "Z1s7XA9aQmG4",
        "outputId": "d9d484b4-51fe-4b1e-ccfa-21d93f212eda"
      },
      "execution_count": 38,
      "outputs": [
        {
          "output_type": "execute_result",
          "data": {
            "text/plain": [
              "<matplotlib.image.AxesImage at 0x7e077bd89f50>"
            ]
          },
          "metadata": {},
          "execution_count": 38
        },
        {
          "output_type": "display_data",
          "data": {
            "text/plain": [
              "<Figure size 640x480 with 1 Axes>"
            ],
            "image/png": "[encoded data removed]"
          },
          "metadata": {}
        }
      ]
    },
    {
      "cell_type": "code",
      "source": [
        "# Pass the image thru the model\n",
        "model.eval()\n",
        "with torch.no_grad():\n",
        "    new_prediction = model(test_data[2025][0].view(1, 1, 28, 28)) # batch size of 1, 1 color channel, 28x28 image"
      ],
      "metadata": {
        "id": "NT-CYIn0Q3ct"
      },
      "execution_count": 39,
      "outputs": []
    },
    {
      "cell_type": "code",
      "source": [
        "new_prediction"
      ],
      "metadata": {
        "colab": {
          "base_uri": "https://localhost:8080/"
        },
        "id": "bHZoMSDPRTpj",
        "outputId": "27b5d033-3147-4d9c-97cd-538f9db0631b"
      },
      "execution_count": 40,
      "outputs": [
        {
          "output_type": "execute_result",
          "data": {
            "text/plain": [
              "tensor([[-2.2842e+01, -2.0017e+01, -1.7293e+01, -3.3897e-04, -2.8593e+01,\n",
              "         -8.1419e+00, -1.3780e+01, -1.9742e+01, -9.9721e+00, -1.7057e+01]])"
            ]
          },
          "metadata": {},
          "execution_count": 40
        }
      ]
    },
    {
      "cell_type": "code",
      "source": [
        "new_prediction.argmax()"
      ],
      "metadata": {
        "colab": {
          "base_uri": "https://localhost:8080/"
        },
        "id": "ewCqviRzRZ7e",
        "outputId": "5f7fb6c9-d055-488f-eb38-b116fd710a61"
      },
      "execution_count": 43,
      "outputs": [
        {
          "output_type": "execute_result",
          "data": {
            "text/plain": [
              "tensor(3)"
            ]
          },
          "metadata": {},
          "execution_count": 43
        }
      ]
    }
  ]
}